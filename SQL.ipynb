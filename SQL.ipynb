{
 "cells": [
  {
   "cell_type": "code",
   "execution_count": 1,
   "metadata": {},
   "outputs": [
    {
     "name": "stdout",
     "output_type": "stream",
     "text": [
      "Databáze 'katedra_psychologie.db' byla vytvořena.\n",
      "V databázi 'katedra_psychologie.db' byla vytvořena tabulka 'volitelne_predmety'.\n",
      "Do tabulky 'volitelne_predmety' byla vložena data.\n"
     ]
    }
   ],
   "source": [
    "import sqlite3\n",
    "\n",
    "conn = sqlite3.connect(\"katedra_psychologie.db\")\n",
    "cursor = conn.cursor()\n",
    "\n",
    "print(\"Databáze 'katedra_psychologie.db' byla vytvořena.\")\n",
    "\n",
    "cursor.execute(\"\"\"\n",
    "CREATE TABLE IF NOT EXISTS volitelne_predmety (\n",
    "    id INTEGER PRIMARY KEY,\n",
    "    nazev TEXT NOT NULL,\n",
    "    vyucujici TEXT NOT NULL,\n",
    "    kredity INTEGER NOT NULL,\n",
    "    CHECK(kredity < 7))\"\"\")\n",
    "\n",
    "print(\"V databázi 'katedra_psychologie.db' byla vytvořena tabulka 'volitelne_predmety'.\")\n",
    "\n",
    "cursor.executemany(\n",
    "    \"INSERT INTO volitelne_predmety (id, nazev, vyucujici, kredity) VALUES (?, ?, ?, ?)\",\n",
    "    [\n",
    "        (300475, \"Practicum in Psychological Statistics\", \"Filip Děchtěrenko\", 4),\n",
    "        (300347, \"Integrative Psychotherapy\", \"Magdalena Frouzová\", 3),\n",
    "        (300043, \"Forenzní psychologie\", \"Ilona Gillernová\", 3),\n",
    "        (300461, \"Neurobehavioral Functioning\", \"Marie Kvapilová\", 5)\n",
    "    ]\n",
    ")\n",
    "\n",
    "print(\"Do tabulky 'volitelne_predmety' byla vložena data.\")\n",
    "\n",
    "conn.commit()\n",
    "\n",
    "cursor.close()\n",
    "conn.close()"
   ]
  },
  {
   "cell_type": "code",
   "execution_count": null,
   "metadata": {},
   "outputs": [
    {
     "name": "stdout",
     "output_type": "stream",
     "text": [
      "       id                                  nazev           vyucujici  kredity\n",
      "0  300043                   Forenzní psychologie    Ilona Gillernová        3\n",
      "1  300347              Integrative Psychotherapy  Magdalena Frouzová        3\n",
      "2  300461            Neurobehavioral Functioning     Marie Kvapilová        5\n",
      "3  300475  Practicum in Psychological Statistics   Filip Děchtěrenko        4\n",
      " \n",
      "        name     type\n",
      "0         id  INTEGER\n",
      "1      nazev     TEXT\n",
      "2  vyucujici     TEXT\n",
      "3    kredity  INTEGER\n"
     ]
    }
   ],
   "source": [
    "import sqlite3\n",
    "import pandas as pd\n",
    "\n",
    "conn = sqlite3.connect(\"katedra_psychologie.db\")\n",
    "cursor = conn.cursor()\n",
    "\n",
    "query1 = \"\"\"SELECT * FROM volitelne_predmety \"\"\"\n",
    "\n",
    "volitelne_predmety = pd.read_sql_query(query1, conn)\n",
    "print(volitelne_predmety)\n",
    "print(\" \")\n",
    "\n",
    "query2 = \"SELECT name, type FROM PRAGMA_TABLE_INFO('volitelne_predmety')\"\n",
    "\n",
    "vysledek = pd.read_sql_query(query2, conn)\n",
    "print(vysledek)\n",
    "\n",
    "cursor.close()\n",
    "conn.close()"
   ]
  },
  {
   "cell_type": "code",
   "execution_count": 3,
   "metadata": {},
   "outputs": [
    {
     "name": "stdout",
     "output_type": "stream",
     "text": [
      "     id   jmeno    prijmeni  rok_narozeni zapsany_predmet  rok_pocatku_studia\n",
      "0  0001  Tereza      Lakomá          1990          300475                2008\n",
      "1  0002   Marie      Šedivá          1992          300347                2012\n",
      "2  0003     Jan    Navrátil          1990          300475                2010\n",
      "3  0004  Žaneta    Prucková          1995          300043                2013\n",
      "4  0005     Lea  Zuntychová          1998          300043                2017\n",
      "5  0006  Ondřej      Mrzout          1994          300461                2017\n",
      "6  0007     Max      Bartoň          1997          300461                2020\n"
     ]
    }
   ],
   "source": [
    "import pandas as pd\n",
    "\n",
    "data = {\n",
    "    \"id\": [\"0001\", \"0002\", \"0003\", \"0004\", \"0005\", \"0006\", \"0007\"],\n",
    "    \"jmeno\": [\"Tereza\", \"Marie\", \"Jan\", \"Žaneta\", \"Lea\", \"Ondřej\", \"Max\"],\n",
    "    \"prijmeni\": [\"Lakomá\", \"Šedivá\", \"Navrátil\", \"Prucková\", \"Zuntychová\", \"Mrzout\", \"Bartoň\"],\n",
    "    \"rok_narozeni\": [\"1990\", \"1992\", \"1990\", \"1995\", \"1998\", \"1994\", \"1997\"],\n",
    "    \"zapsany_predmet\": [\"300475\", \"300347\", \"300475\", \"300043\", \"300043\", \"300461\", \"300461\"],\n",
    "    \"rok_pocatku_studia\": [\"2008\", \"2012\", \"2010\", \"2013\", \"2017\", \"2017\", \"2020\"]\n",
    "}\n",
    "\n",
    "studenti_katedry = pd.DataFrame(data)\n",
    "\n",
    "studenti_katedry[\"id\"] = studenti_katedry[\"id\"].astype(str) \n",
    "studenti_katedry[\"jmeno\"] = studenti_katedry[\"jmeno\"].astype(str)\n",
    "studenti_katedry[\"prijmeni\"] = studenti_katedry[\"prijmeni\"].astype(str) \n",
    "studenti_katedry[\"rok_narozeni\"] = studenti_katedry[\"rok_narozeni\"].astype(int) \n",
    "studenti_katedry[\"zapsany_predmet\"] = studenti_katedry[\"zapsany_predmet\"].astype(str) \n",
    "studenti_katedry[\"rok_pocatku_studia\"] = studenti_katedry[\"rok_pocatku_studia\"].astype(int) \n",
    "\n",
    "print(studenti_katedry)\n",
    "\n",
    "\n"
   ]
  },
  {
   "cell_type": "code",
   "execution_count": 4,
   "metadata": {},
   "outputs": [
    {
     "name": "stdout",
     "output_type": "stream",
     "text": [
      "DataFrame 'studenti_katedry' byl uložen jako soubor 'studenti.csv'.\n",
      "Tabulka 'studenti.csv' byla vložena do databáze 'katedra_psychologie.db' \n"
     ]
    }
   ],
   "source": [
    "import sqlite3\n",
    "import pandas as pd \n",
    "conn = sqlite3.connect(\"katedra_psychologie.db\")\n",
    "studenti_katedry.to_csv(\"studenti.csv\", index = False)\n",
    "\n",
    "print (\"DataFrame 'studenti_katedry' byl uložen jako soubor 'studenti.csv'.\")\n",
    "\n",
    "data = pd.read_csv(\"studenti.csv\")\n",
    "data.to_sql('studenti', conn)\n",
    "\n",
    "print(\"Tabulka 'studenti.csv' byla vložena do databáze 'katedra_psychologie.db' \")\n"
   ]
  },
  {
   "cell_type": "code",
   "execution_count": 7,
   "metadata": {},
   "outputs": [
    {
     "name": "stdout",
     "output_type": "stream",
     "text": [
      "('Marie', 'Šedivá', 'Integrative Psychotherapy', 'Magdalena Frouzová')\n"
     ]
    }
   ],
   "source": [
    "import sqlite3\n",
    "import pandas as pd \n",
    "conn = sqlite3.connect(\"katedra_psychologie.db\")\n",
    "cursor = conn.cursor()\n",
    "\n",
    "cursor.execute(\"\"\" SELECT s.jmeno, s.prijmeni, vp.nazev, vp.vyucujici\n",
    "               FROM studenti s, volitelne_predmety vp\n",
    "               WHERE vp.id = s.zapsany_predmet AND vp.id = \"300347\"\n",
    "               \"\"\")\n",
    "\n",
    "results = cursor.fetchall()\n",
    "for row in results:\n",
    "    print(row)\n",
    "\n",
    "cursor.close()\n",
    "conn.close()"
   ]
  }
 ],
 "metadata": {
  "kernelspec": {
   "display_name": "Python 3",
   "language": "python",
   "name": "python3"
  },
  "language_info": {
   "codemirror_mode": {
    "name": "ipython",
    "version": 3
   },
   "file_extension": ".py",
   "mimetype": "text/x-python",
   "name": "python",
   "nbconvert_exporter": "python",
   "pygments_lexer": "ipython3",
   "version": "3.12.1"
  }
 },
 "nbformat": 4,
 "nbformat_minor": 2
}
